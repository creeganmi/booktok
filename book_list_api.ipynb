{
 "cells": [
  {
   "cell_type": "code",
   "execution_count": 1,
   "metadata": {},
   "outputs": [
    {
     "name": "stderr",
     "output_type": "stream",
     "text": [
      "WARNING: Skipping sparqlwrapper as it is not installed.\n"
     ]
    },
    {
     "name": "stdout",
     "output_type": "stream",
     "text": [
      "Collecting sparqlwrapper\n",
      "  Downloading SPARQLWrapper-2.0.0-py3-none-any.whl (28 kB)\n",
      "Collecting rdflib>=6.1.1\n",
      "  Downloading rdflib-6.1.1-py3-none-any.whl (482 kB)\n",
      "Collecting isodate\n",
      "  Downloading isodate-0.6.1-py2.py3-none-any.whl (41 kB)\n",
      "Requirement already satisfied: setuptools in c:\\program files\\windowsapps\\pythonsoftwarefoundation.python.3.9_3.9.2800.0_x64__qbz5n2kfra8p0\\lib\\site-packages (from rdflib>=6.1.1->sparqlwrapper) (58.1.0)\n",
      "Requirement already satisfied: pyparsing in c:\\users\\creeg\\appdata\\local\\packages\\pythonsoftwarefoundation.python.3.9_qbz5n2kfra8p0\\localcache\\local-packages\\python39\\site-packages (from rdflib>=6.1.1->sparqlwrapper) (3.0.6)\n",
      "Requirement already satisfied: six in c:\\users\\creeg\\appdata\\local\\packages\\pythonsoftwarefoundation.python.3.9_qbz5n2kfra8p0\\localcache\\local-packages\\python39\\site-packages (from isodate->rdflib>=6.1.1->sparqlwrapper) (1.16.0)\n",
      "Installing collected packages: isodate, rdflib, sparqlwrapper\n",
      "Successfully installed isodate-0.6.1 rdflib-6.1.1 sparqlwrapper-2.0.0\n"
     ]
    },
    {
     "name": "stderr",
     "output_type": "stream",
     "text": [
      "  WARNING: The scripts csv2rdf.exe, rdf2dot.exe, rdfgraphisomorphism.exe, rdfpipe.exe and rdfs2dot.exe are installed in 'C:\\Users\\creeg\\AppData\\Local\\Packages\\PythonSoftwareFoundation.Python.3.9_qbz5n2kfra8p0\\LocalCache\\local-packages\\Python39\\Scripts' which is not on PATH.\n",
      "  Consider adding this directory to PATH or, if you prefer to suppress this warning, use --no-warn-script-location.\n",
      "  WARNING: The script rqw.exe is installed in 'C:\\Users\\creeg\\AppData\\Local\\Packages\\PythonSoftwareFoundation.Python.3.9_qbz5n2kfra8p0\\LocalCache\\local-packages\\Python39\\Scripts' which is not on PATH.\n",
      "  Consider adding this directory to PATH or, if you prefer to suppress this warning, use --no-warn-script-location.\n",
      "WARNING: You are using pip version 21.3.1; however, version 22.0.4 is available.\n",
      "You should consider upgrading via the 'C:\\Users\\creeg\\AppData\\Local\\Microsoft\\WindowsApps\\PythonSoftwareFoundation.Python.3.9_qbz5n2kfra8p0\\python.exe -m pip install --upgrade pip' command.\n"
     ]
    }
   ],
   "source": [
    "# !pip3 uninstall -y sparqlwrapper\n",
    "# !pip3 install sparqlwrapper"
   ]
  },
  {
   "cell_type": "code",
   "execution_count": 25,
   "metadata": {},
   "outputs": [],
   "source": [
    "from SPARQLWrapper import SPARQLWrapper, JSON\n",
    "import pandas as pd"
   ]
  },
  {
   "cell_type": "code",
   "execution_count": 3,
   "metadata": {},
   "outputs": [],
   "source": [
    "#Declare the BNB endpoint\n",
    "endpoint=\"http://bnb.data.bl.uk/sparql\"\n",
    "sparql = SPARQLWrapper(endpoint)"
   ]
  },
  {
   "cell_type": "code",
   "execution_count": 4,
   "metadata": {},
   "outputs": [
    {
     "data": {
      "text/plain": [
       "{'head': {'link': [], 'vars': ['book', 'bnb', 'title']},\n",
       " 'results': {'distinct': False,\n",
       "  'ordered': True,\n",
       "  'bindings': [{'book': {'type': 'uri',\n",
       "     'value': 'http://bnb.data.bl.uk/id/resource/005711109'},\n",
       "    'bnb': {'type': 'literal', 'value': 'GBA514449'},\n",
       "    'title': {'type': 'literal',\n",
       "     'value': 'The complete works of Voltaire = Les œuvres completes de Voltaire'}}]}}"
      ]
     },
     "execution_count": 4,
     "metadata": {},
     "output_type": "execute_result"
    }
   ],
   "source": [
    "# test \n",
    "\n",
    "q='''PREFIX bibo: <http://purl.org/ontology/bibo/>\n",
    "PREFIX bio: <http://purl.org/vocab/bio/0.1/>\n",
    "PREFIX blt: <http://www.bl.uk/schemas/bibliographic/blterms#>\n",
    "PREFIX dct: <http://purl.org/dc/terms/>\n",
    "PREFIX event: <http://purl.org/NET/c4dm/event.owl#>\n",
    "PREFIX foaf: <http://xmlns.com/foaf/0.1/>\n",
    "PREFIX geo: <http://www.w3.org/2003/01/geo/wgs84_pos#>\n",
    "PREFIX isbd: <http://iflastandards.info/ns/isbd/elements/>\n",
    "PREFIX org: <http://www.w3.org/ns/org#>\n",
    "PREFIX owl: <http://www.w3.org/2002/07/owl#>\n",
    "PREFIX rda: <http://rdvocab.info/ElementsGr2/>\n",
    "PREFIX rdf: <http://www.w3.org/1999/02/22-rdf-syntax-ns#>\n",
    "PREFIX rdfs: <http://www.w3.org/2000/01/rdf-schema#>\n",
    "PREFIX skos: <http://www.w3.org/2004/02/skos/core#>\n",
    "PREFIX void: <http://rdfs.org/ns/void#>\n",
    "PREFIX xsd: <http://www.w3.org/2001/XMLSchema#>\n",
    "\n",
    "SELECT ?book ?bnb ?title WHERE {\n",
    "    #Match the book by ISBN\n",
    "    ?book bibo:isbn13 \"9780729408745\";\n",
    "    #bind some variables to its other attributes\n",
    "    blt:bnb ?bnb;\n",
    "    dct:title ?title. }'''\n",
    "sparql.setQuery(q)\n",
    "sparql.setReturnFormat(JSON)\n",
    "results = sparql.query().convert()\n",
    "results"
   ]
  },
  {
   "cell_type": "code",
   "execution_count": 5,
   "metadata": {},
   "outputs": [],
   "source": [
    "# create template\n",
    "\n",
    "prefix='''\n",
    "PREFIX bibo: <http://purl.org/ontology/bibo/>\n",
    "PREFIX bio: <http://purl.org/vocab/bio/0.1/>\n",
    "PREFIX blt: <http://www.bl.uk/schemas/bibliographic/blterms#>\n",
    "PREFIX dct: <http://purl.org/dc/terms/>\n",
    "PREFIX event: <http://purl.org/NET/c4dm/event.owl#>\n",
    "PREFIX foaf: <http://xmlns.com/foaf/0.1/>\n",
    "PREFIX geo: <http://www.w3.org/2003/01/geo/wgs84_pos#>\n",
    "PREFIX isbd: <http://iflastandards.info/ns/isbd/elements/>\n",
    "PREFIX org: <http://www.w3.org/ns/org#>\n",
    "PREFIX owl: <http://www.w3.org/2002/07/owl#>\n",
    "PREFIX rda: <http://rdvocab.info/ElementsGr2/>\n",
    "PREFIX rdf: <http://www.w3.org/1999/02/22-rdf-syntax-ns#>\n",
    "PREFIX rdfs: <http://www.w3.org/2000/01/rdf-schema#>\n",
    "PREFIX skos: <http://www.w3.org/2004/02/skos/core#>\n",
    "PREFIX void: <http://rdfs.org/ns/void#>\n",
    "PREFIX xsd: <http://www.w3.org/2001/XMLSchema#>\n",
    "    \n",
    "'''"
   ]
  },
  {
   "cell_type": "code",
   "execution_count": 15,
   "metadata": {},
   "outputs": [],
   "source": [
    "# Search for books by author name\n",
    "q='''\n",
    "SELECT DISTINCT ?book ?title ?author ?genre WHERE {\n",
    "    ?book dct:creator ?author ;\n",
    "        dct:title ?title.\n",
    "    ?author foaf:name \"Ernest Hemingway\".\n",
    "} LIMIT 5\n",
    "'''"
   ]
  },
  {
   "cell_type": "code",
   "execution_count": 17,
   "metadata": {},
   "outputs": [],
   "source": [
    "# Run query, parse as JSON, place into variable\n",
    "\n",
    "sparql.setQuery(prefix+q)\n",
    "sparql.setReturnFormat(JSON)\n",
    "results = sparql.query().convert()"
   ]
  },
  {
   "cell_type": "code",
   "execution_count": 18,
   "metadata": {},
   "outputs": [
    {
     "data": {
      "text/plain": [
       "{'head': {'link': [], 'vars': ['book', 'title', 'author', 'genre']},\n",
       " 'results': {'distinct': False,\n",
       "  'ordered': True,\n",
       "  'bindings': [{'book': {'type': 'uri',\n",
       "     'value': 'http://bnb.data.bl.uk/id/resource/019676998'},\n",
       "    'title': {'type': 'literal',\n",
       "     'value': 'The good life according to Hemingway'},\n",
       "    'author': {'type': 'uri',\n",
       "     'value': 'http://bnb.data.bl.uk/id/person/HemingwayErnest1899-1961'}},\n",
       "   {'book': {'type': 'uri',\n",
       "     'value': 'http://bnb.data.bl.uk/id/resource/006731265'},\n",
       "    'title': {'type': 'literal', 'value': 'The essential Hemingway'},\n",
       "    'author': {'type': 'uri',\n",
       "     'value': 'http://bnb.data.bl.uk/id/person/HemingwayErnest1899-1961'}},\n",
       "   {'book': {'type': 'uri',\n",
       "     'value': 'http://bnb.data.bl.uk/id/resource/006969792'},\n",
       "    'title': {'type': 'literal', 'value': 'Death in the afternoon'},\n",
       "    'author': {'type': 'uri',\n",
       "     'value': 'http://bnb.data.bl.uk/id/person/HemingwayErnest1899-1961'}},\n",
       "   {'book': {'type': 'uri',\n",
       "     'value': 'http://bnb.data.bl.uk/id/resource/006969811'},\n",
       "    'title': {'type': 'literal', 'value': 'To have and have not'},\n",
       "    'author': {'type': 'uri',\n",
       "     'value': 'http://bnb.data.bl.uk/id/person/HemingwayErnest1899-1961'}},\n",
       "   {'book': {'type': 'uri',\n",
       "     'value': 'http://bnb.data.bl.uk/id/resource/006972503'},\n",
       "    'title': {'type': 'literal', 'value': 'A farewell to arms'},\n",
       "    'author': {'type': 'uri',\n",
       "     'value': 'http://bnb.data.bl.uk/id/person/HemingwayErnest1899-1961'}}]}}"
      ]
     },
     "execution_count": 18,
     "metadata": {},
     "output_type": "execute_result"
    }
   ],
   "source": [
    "results"
   ]
  },
  {
   "cell_type": "code",
   "execution_count": 19,
   "metadata": {},
   "outputs": [],
   "source": [
    "# specify columns \n",
    "\n",
    "answerCols=['book','title']"
   ]
  },
  {
   "cell_type": "code",
   "execution_count": 21,
   "metadata": {},
   "outputs": [
    {
     "name": "stdout",
     "output_type": "stream",
     "text": [
      "http://bnb.data.bl.uk/id/resource/019676998 The good life according to Hemingway \n",
      "http://bnb.data.bl.uk/id/resource/006731265 The essential Hemingway \n",
      "http://bnb.data.bl.uk/id/resource/006969792 Death in the afternoon \n",
      "http://bnb.data.bl.uk/id/resource/006969811 To have and have not \n",
      "http://bnb.data.bl.uk/id/resource/006972503 A farewell to arms \n"
     ]
    }
   ],
   "source": [
    "for result in results[\"results\"][\"bindings\"]:\n",
    "    for ans in answerCols:\n",
    "        print(result[ans]['value'], end=\" \")\n",
    "    print()"
   ]
  },
  {
   "cell_type": "code",
   "execution_count": 22,
   "metadata": {},
   "outputs": [],
   "source": [
    "# function to get data\n",
    "\n",
    "def printResults(results,ansCols):\n",
    "    ''' Print the required results column values from the SPARQL query '''\n",
    "    for result in results[\"results\"][\"bindings\"]:\n",
    "        for ans in answerCols:\n",
    "            print(result[ans]['value'], end=\" \")\n",
    "        print()"
   ]
  },
  {
   "cell_type": "code",
   "execution_count": 23,
   "metadata": {},
   "outputs": [
    {
     "name": "stdout",
     "output_type": "stream",
     "text": [
      "http://bnb.data.bl.uk/id/resource/019676998 The good life according to Hemingway \n",
      "http://bnb.data.bl.uk/id/resource/006731265 The essential Hemingway \n",
      "http://bnb.data.bl.uk/id/resource/006969792 Death in the afternoon \n",
      "http://bnb.data.bl.uk/id/resource/006969811 To have and have not \n",
      "http://bnb.data.bl.uk/id/resource/006972503 A farewell to arms \n"
     ]
    }
   ],
   "source": [
    "printResults(results,answerCols)"
   ]
  },
  {
   "cell_type": "code",
   "execution_count": 32,
   "metadata": {},
   "outputs": [],
   "source": [
    "#Let's do a little more wrapping\n",
    "def runQuery(endpoint,prefix,q):\n",
    "    ''' Run a SPARQL query with a declared prefix over a specified endpoint '''\n",
    "    sparql = SPARQLWrapper(endpoint)\n",
    "    sparql.setQuery(prefix+q)\n",
    "    sparql.setReturnFormat(JSON)\n",
    "    return sparql.query().convert()\n",
    "\n",
    "def queryResults(endpoint,prefix,q,ansCols):\n",
    "    ''' Run a SPARQL query with a declared prefix over a specified endpoint and print the required results columns '''\n",
    "    results=runQuery(endpoint,prefix,q)\n",
    "    printResults(results,ansCols)"
   ]
  },
  {
   "cell_type": "code",
   "execution_count": 33,
   "metadata": {},
   "outputs": [
    {
     "name": "stdout",
     "output_type": "stream",
     "text": [
      "http://bnb.data.bl.uk/id/resource/019676998 The good life according to Hemingway \n",
      "http://bnb.data.bl.uk/id/resource/006731265 The essential Hemingway \n",
      "http://bnb.data.bl.uk/id/resource/006969792 Death in the afternoon \n",
      "http://bnb.data.bl.uk/id/resource/006969811 To have and have not \n",
      "http://bnb.data.bl.uk/id/resource/006972503 A farewell to arms \n"
     ]
    }
   ],
   "source": [
    "queryResults(endpoint,prefix,q,answerCols)"
   ]
  },
  {
   "cell_type": "code",
   "execution_count": 35,
   "metadata": {},
   "outputs": [
    {
     "data": {
      "text/plain": [
       "{'head': {'link': [], 'vars': ['book', 'title', 'author', 'genre']},\n",
       " 'results': {'distinct': False,\n",
       "  'ordered': True,\n",
       "  'bindings': [{'book': {'type': 'uri',\n",
       "     'value': 'http://bnb.data.bl.uk/id/resource/019676998'},\n",
       "    'title': {'type': 'literal',\n",
       "     'value': 'The good life according to Hemingway'},\n",
       "    'author': {'type': 'uri',\n",
       "     'value': 'http://bnb.data.bl.uk/id/person/HemingwayErnest1899-1961'}},\n",
       "   {'book': {'type': 'uri',\n",
       "     'value': 'http://bnb.data.bl.uk/id/resource/006731265'},\n",
       "    'title': {'type': 'literal', 'value': 'The essential Hemingway'},\n",
       "    'author': {'type': 'uri',\n",
       "     'value': 'http://bnb.data.bl.uk/id/person/HemingwayErnest1899-1961'}},\n",
       "   {'book': {'type': 'uri',\n",
       "     'value': 'http://bnb.data.bl.uk/id/resource/006969792'},\n",
       "    'title': {'type': 'literal', 'value': 'Death in the afternoon'},\n",
       "    'author': {'type': 'uri',\n",
       "     'value': 'http://bnb.data.bl.uk/id/person/HemingwayErnest1899-1961'}},\n",
       "   {'book': {'type': 'uri',\n",
       "     'value': 'http://bnb.data.bl.uk/id/resource/006969811'},\n",
       "    'title': {'type': 'literal', 'value': 'To have and have not'},\n",
       "    'author': {'type': 'uri',\n",
       "     'value': 'http://bnb.data.bl.uk/id/person/HemingwayErnest1899-1961'}},\n",
       "   {'book': {'type': 'uri',\n",
       "     'value': 'http://bnb.data.bl.uk/id/resource/006972503'},\n",
       "    'title': {'type': 'literal', 'value': 'A farewell to arms'},\n",
       "    'author': {'type': 'uri',\n",
       "     'value': 'http://bnb.data.bl.uk/id/person/HemingwayErnest1899-1961'}}]}}"
      ]
     },
     "execution_count": 35,
     "metadata": {},
     "output_type": "execute_result"
    }
   ],
   "source": [
    "# kinda worked\n",
    "\n",
    "results"
   ]
  },
  {
   "cell_type": "code",
   "execution_count": 26,
   "metadata": {},
   "outputs": [
    {
     "data": {
      "text/html": [
       "<div>\n",
       "<style scoped>\n",
       "    .dataframe tbody tr th:only-of-type {\n",
       "        vertical-align: middle;\n",
       "    }\n",
       "\n",
       "    .dataframe tbody tr th {\n",
       "        vertical-align: top;\n",
       "    }\n",
       "\n",
       "    .dataframe thead th {\n",
       "        text-align: right;\n",
       "    }\n",
       "</style>\n",
       "<table border=\"1\" class=\"dataframe\">\n",
       "  <thead>\n",
       "    <tr style=\"text-align: right;\">\n",
       "      <th></th>\n",
       "      <th>book</th>\n",
       "      <th>title</th>\n",
       "      <th>author</th>\n",
       "    </tr>\n",
       "  </thead>\n",
       "  <tbody>\n",
       "    <tr>\n",
       "      <th>0</th>\n",
       "      <td>http://bnb.data.bl.uk/id/resource/019676998</td>\n",
       "      <td>The good life according to Hemingway</td>\n",
       "      <td>http://bnb.data.bl.uk/id/person/HemingwayErnes...</td>\n",
       "    </tr>\n",
       "    <tr>\n",
       "      <th>1</th>\n",
       "      <td>http://bnb.data.bl.uk/id/resource/006731265</td>\n",
       "      <td>The essential Hemingway</td>\n",
       "      <td>http://bnb.data.bl.uk/id/person/HemingwayErnes...</td>\n",
       "    </tr>\n",
       "    <tr>\n",
       "      <th>2</th>\n",
       "      <td>http://bnb.data.bl.uk/id/resource/006969792</td>\n",
       "      <td>Death in the afternoon</td>\n",
       "      <td>http://bnb.data.bl.uk/id/person/HemingwayErnes...</td>\n",
       "    </tr>\n",
       "    <tr>\n",
       "      <th>3</th>\n",
       "      <td>http://bnb.data.bl.uk/id/resource/006969811</td>\n",
       "      <td>To have and have not</td>\n",
       "      <td>http://bnb.data.bl.uk/id/person/HemingwayErnes...</td>\n",
       "    </tr>\n",
       "    <tr>\n",
       "      <th>4</th>\n",
       "      <td>http://bnb.data.bl.uk/id/resource/006972503</td>\n",
       "      <td>A farewell to arms</td>\n",
       "      <td>http://bnb.data.bl.uk/id/person/HemingwayErnes...</td>\n",
       "    </tr>\n",
       "  </tbody>\n",
       "</table>\n",
       "</div>"
      ],
      "text/plain": [
       "                                          book  \\\n",
       "0  http://bnb.data.bl.uk/id/resource/019676998   \n",
       "1  http://bnb.data.bl.uk/id/resource/006731265   \n",
       "2  http://bnb.data.bl.uk/id/resource/006969792   \n",
       "3  http://bnb.data.bl.uk/id/resource/006969811   \n",
       "4  http://bnb.data.bl.uk/id/resource/006972503   \n",
       "\n",
       "                                  title  \\\n",
       "0  The good life according to Hemingway   \n",
       "1               The essential Hemingway   \n",
       "2                Death in the afternoon   \n",
       "3                  To have and have not   \n",
       "4                    A farewell to arms   \n",
       "\n",
       "                                              author  \n",
       "0  http://bnb.data.bl.uk/id/person/HemingwayErnes...  \n",
       "1  http://bnb.data.bl.uk/id/person/HemingwayErnes...  \n",
       "2  http://bnb.data.bl.uk/id/person/HemingwayErnes...  \n",
       "3  http://bnb.data.bl.uk/id/person/HemingwayErnes...  \n",
       "4  http://bnb.data.bl.uk/id/person/HemingwayErnes...  "
      ]
     },
     "execution_count": 26,
     "metadata": {},
     "output_type": "execute_result"
    }
   ],
   "source": [
    "#pandas may have a better way of doing this?!\n",
    "data=[]\n",
    "for result in results[\"results\"][\"bindings\"]:\n",
    "    tmp={}\n",
    "    for el in result:\n",
    "        tmp[el]=result[el]['value']\n",
    "    data.append(tmp)\n",
    "    #Note that we lise the type information which we could have used to type the columns in the final dataframe\n",
    "\n",
    "df = pd.DataFrame(data)\n",
    "df"
   ]
  },
  {
   "cell_type": "code",
   "execution_count": 36,
   "metadata": {},
   "outputs": [],
   "source": [
    "#Let's wrap everything up\n",
    "def dict2df(results):\n",
    "    ''' Hack a function to flatten the SPARQL query results and return the column values '''\n",
    "    data=[]\n",
    "    for result in results[\"results\"][\"bindings\"]:\n",
    "        tmp={}\n",
    "        for el in result:\n",
    "            tmp[el]=result[el]['value']\n",
    "        data.append(tmp)\n",
    "\n",
    "    df = pd.DataFrame(data)\n",
    "    return df\n",
    "\n",
    "def dfResults(endpoint,prefix,q):\n",
    "    ''' Generate a data frame containing the results of running\n",
    "        a SPARQL query with a declared prefix over a specified endpoint '''\n",
    "    return dict2df( runQuery( endpoint, prefix, q ) )"
   ]
  },
  {
   "cell_type": "code",
   "execution_count": 37,
   "metadata": {},
   "outputs": [
    {
     "data": {
      "text/html": [
       "<div>\n",
       "<style scoped>\n",
       "    .dataframe tbody tr th:only-of-type {\n",
       "        vertical-align: middle;\n",
       "    }\n",
       "\n",
       "    .dataframe tbody tr th {\n",
       "        vertical-align: top;\n",
       "    }\n",
       "\n",
       "    .dataframe thead th {\n",
       "        text-align: right;\n",
       "    }\n",
       "</style>\n",
       "<table border=\"1\" class=\"dataframe\">\n",
       "  <thead>\n",
       "    <tr style=\"text-align: right;\">\n",
       "      <th></th>\n",
       "      <th>book</th>\n",
       "      <th>title</th>\n",
       "      <th>author</th>\n",
       "    </tr>\n",
       "  </thead>\n",
       "  <tbody>\n",
       "    <tr>\n",
       "      <th>0</th>\n",
       "      <td>http://bnb.data.bl.uk/id/resource/019676998</td>\n",
       "      <td>The good life according to Hemingway</td>\n",
       "      <td>http://bnb.data.bl.uk/id/person/HemingwayErnes...</td>\n",
       "    </tr>\n",
       "    <tr>\n",
       "      <th>1</th>\n",
       "      <td>http://bnb.data.bl.uk/id/resource/006731265</td>\n",
       "      <td>The essential Hemingway</td>\n",
       "      <td>http://bnb.data.bl.uk/id/person/HemingwayErnes...</td>\n",
       "    </tr>\n",
       "    <tr>\n",
       "      <th>2</th>\n",
       "      <td>http://bnb.data.bl.uk/id/resource/006969792</td>\n",
       "      <td>Death in the afternoon</td>\n",
       "      <td>http://bnb.data.bl.uk/id/person/HemingwayErnes...</td>\n",
       "    </tr>\n",
       "    <tr>\n",
       "      <th>3</th>\n",
       "      <td>http://bnb.data.bl.uk/id/resource/006969811</td>\n",
       "      <td>To have and have not</td>\n",
       "      <td>http://bnb.data.bl.uk/id/person/HemingwayErnes...</td>\n",
       "    </tr>\n",
       "    <tr>\n",
       "      <th>4</th>\n",
       "      <td>http://bnb.data.bl.uk/id/resource/006972503</td>\n",
       "      <td>A farewell to arms</td>\n",
       "      <td>http://bnb.data.bl.uk/id/person/HemingwayErnes...</td>\n",
       "    </tr>\n",
       "  </tbody>\n",
       "</table>\n",
       "</div>"
      ],
      "text/plain": [
       "                                          book  \\\n",
       "0  http://bnb.data.bl.uk/id/resource/019676998   \n",
       "1  http://bnb.data.bl.uk/id/resource/006731265   \n",
       "2  http://bnb.data.bl.uk/id/resource/006969792   \n",
       "3  http://bnb.data.bl.uk/id/resource/006969811   \n",
       "4  http://bnb.data.bl.uk/id/resource/006972503   \n",
       "\n",
       "                                  title  \\\n",
       "0  The good life according to Hemingway   \n",
       "1               The essential Hemingway   \n",
       "2                Death in the afternoon   \n",
       "3                  To have and have not   \n",
       "4                    A farewell to arms   \n",
       "\n",
       "                                              author  \n",
       "0  http://bnb.data.bl.uk/id/person/HemingwayErnes...  \n",
       "1  http://bnb.data.bl.uk/id/person/HemingwayErnes...  \n",
       "2  http://bnb.data.bl.uk/id/person/HemingwayErnes...  \n",
       "3  http://bnb.data.bl.uk/id/person/HemingwayErnes...  \n",
       "4  http://bnb.data.bl.uk/id/person/HemingwayErnes...  "
      ]
     },
     "execution_count": 37,
     "metadata": {},
     "output_type": "execute_result"
    }
   ],
   "source": [
    "dfResults(endpoint,prefix,q)"
   ]
  },
  {
   "cell_type": "code",
   "execution_count": 38,
   "metadata": {},
   "outputs": [
    {
     "name": "stderr",
     "output_type": "stream",
     "text": [
      "C:\\Users\\creeg\\AppData\\Local\\Packages\\PythonSoftwareFoundation.Python.3.9_qbz5n2kfra8p0\\LocalCache\\local-packages\\Python39\\site-packages\\SPARQLWrapper\\Wrapper.py:794: RuntimeWarning: Sending Accept header '*/*' because unexpected returned format 'json' in a 'DESCRIBE' SPARQL query form\n",
      "  warnings.warn(\n",
      "C:\\Users\\creeg\\AppData\\Local\\Packages\\PythonSoftwareFoundation.Python.3.9_qbz5n2kfra8p0\\LocalCache\\local-packages\\Python39\\site-packages\\SPARQLWrapper\\Wrapper.py:1179: RuntimeWarning: Format requested was JSON, but N3 (text/turtle; charset=UTF-8) has been returned by the endpoint\n",
      "  warnings.warn(\n"
     ]
    },
    {
     "data": {
      "text/plain": [
       "b'@prefix owl:\\t<http://www.w3.org/2002/07/owl#> .\\n@prefix ns1:\\t<http://bnb.data.bl.uk/id/resource/> .\\nns1:GB9444355\\towl:sameAs\\t<http://bnb.data.bl.uk/id/resource/012701972> .\\n@prefix ns2:\\t<http://www.bl.uk/schemas/bibliographic/blterms#> .\\n@prefix ns3:\\t<http://bnb.data.bl.uk/id/person/> .\\nns3:BanksIain1954-2013\\tns2:hasCreated\\t<http://bnb.data.bl.uk/id/resource/012701972> .\\n@prefix rdf:\\t<http://www.w3.org/1999/02/22-rdf-syntax-ns#> .\\n@prefix ns5:\\t<http://purl.org/dc/terms/> .\\n<http://bnb.data.bl.uk/id/resource/012701972>\\trdf:type\\tns5:BibliographicResource .\\n@prefix ns6:\\t<http://schema.org/> .\\n<http://bnb.data.bl.uk/id/resource/012701972>\\trdf:type\\tns6:Book .\\n@prefix ns7:\\t<http://purl.org/ontology/bibo/> .\\n<http://bnb.data.bl.uk/id/resource/012701972>\\trdf:type\\tns7:Book .\\n@prefix rdfs:\\t<http://www.w3.org/2000/01/rdf-schema#> .\\n<http://bnb.data.bl.uk/id/resource/012701972>\\trdfs:label\\t\"Feersum endjinn / Iain Banks\" ;\\n\\towl:sameAs\\tns1:GB9444355 ;\\n\\tns5:creator\\tns3:BanksIain1954-2013 ;\\n\\tns5:title\\t\"Feersum endjinn\" ;\\n\\tns6:name\\t\"Feersum endjinn\" .\\n@prefix ns9:\\t<http://lexvo.org/id/iso639-3/> .\\n<http://bnb.data.bl.uk/id/resource/012701972>\\tns5:language\\tns9:eng ;\\n\\tns5:subject\\t<http://bnb.data.bl.uk/id/concept/ddc/e20/823.914> ;\\n\\tns7:isbn10\\t\"1857232356\" .\\n@prefix ns10:\\t<http://iflastandards.info/ns/isbd/elements/> .\\n<http://bnb.data.bl.uk/id/resource/012701972>\\tns10:P1053\\t\"279p.\"@en .\\n@prefix ns11:\\t<http://rdaregistry.info/Elements/u/> .\\n<http://bnb.data.bl.uk/id/resource/012701972>\\tns11:P60048\\t<http://rdaregistry.info/termList/RDACarrierType/1049> ;\\n\\tns11:P60049\\t<http://rdaregistry.info/termList/RDAContentType/1020> ;\\n\\tns11:P60050\\t<http://rdaregistry.info/termList/RDAMediaType/1007> ;\\n\\tns6:author\\tns3:BanksIain1954-2013 ;\\n\\tns6:datePublished\\t\"1994\" ;\\n\\tns6:identifier\\tns1:GB9444355 ;\\n\\tns6:isbn\\t\"1857232356\" ;\\n\\tns2:bnb\\t\"GB9444355\" .\\n@prefix ns12:\\t<http://bnb.data.bl.uk/id/resource/012701972/publicationevent/> .\\n<http://bnb.data.bl.uk/id/resource/012701972>\\tns2:publication\\tns12:LondonOrbit1994 .'"
      ]
     },
     "execution_count": 38,
     "metadata": {},
     "output_type": "execute_result"
    }
   ],
   "source": [
    "q='DESCRIBE ?book WHERE { ?book bibo:isbn10 \"1857232356\" }'\n",
    "ans=runQuery(endpoint,prefix,q)\n",
    "ans"
   ]
  },
  {
   "cell_type": "code",
   "execution_count": 41,
   "metadata": {},
   "outputs": [
    {
     "data": {
      "text/html": [
       "<div>\n",
       "<style scoped>\n",
       "    .dataframe tbody tr th:only-of-type {\n",
       "        vertical-align: middle;\n",
       "    }\n",
       "\n",
       "    .dataframe tbody tr th {\n",
       "        vertical-align: top;\n",
       "    }\n",
       "\n",
       "    .dataframe thead th {\n",
       "        text-align: right;\n",
       "    }\n",
       "</style>\n",
       "<table border=\"1\" class=\"dataframe\">\n",
       "  <thead>\n",
       "    <tr style=\"text-align: right;\">\n",
       "      <th></th>\n",
       "      <th>book</th>\n",
       "      <th>title</th>\n",
       "      <th>date</th>\n",
       "    </tr>\n",
       "  </thead>\n",
       "  <tbody>\n",
       "    <tr>\n",
       "      <th>0</th>\n",
       "      <td>http://bnb.data.bl.uk/id/resource/010054162</td>\n",
       "      <td>Walking on glass</td>\n",
       "      <td>1985</td>\n",
       "    </tr>\n",
       "    <tr>\n",
       "      <th>1</th>\n",
       "      <td>http://bnb.data.bl.uk/id/resource/012633949</td>\n",
       "      <td>The wasp factory</td>\n",
       "      <td>1985</td>\n",
       "    </tr>\n",
       "    <tr>\n",
       "      <th>2</th>\n",
       "      <td>http://bnb.data.bl.uk/id/resource/010055357</td>\n",
       "      <td>The bridge</td>\n",
       "      <td>1986</td>\n",
       "    </tr>\n",
       "    <tr>\n",
       "      <th>3</th>\n",
       "      <td>http://bnb.data.bl.uk/id/resource/012634133</td>\n",
       "      <td>Walking on glass</td>\n",
       "      <td>1986</td>\n",
       "    </tr>\n",
       "    <tr>\n",
       "      <th>4</th>\n",
       "      <td>http://bnb.data.bl.uk/id/resource/010043975</td>\n",
       "      <td>The bridge</td>\n",
       "      <td>1987</td>\n",
       "    </tr>\n",
       "    <tr>\n",
       "      <th>5</th>\n",
       "      <td>http://bnb.data.bl.uk/id/resource/010056544</td>\n",
       "      <td>Consider Phlebas</td>\n",
       "      <td>1987</td>\n",
       "    </tr>\n",
       "    <tr>\n",
       "      <th>6</th>\n",
       "      <td>http://bnb.data.bl.uk/id/resource/010056904</td>\n",
       "      <td>Espedair Street</td>\n",
       "      <td>1987</td>\n",
       "    </tr>\n",
       "    <tr>\n",
       "      <th>7</th>\n",
       "      <td>http://bnb.data.bl.uk/id/resource/010057897</td>\n",
       "      <td>The player of games</td>\n",
       "      <td>1988</td>\n",
       "    </tr>\n",
       "    <tr>\n",
       "      <th>8</th>\n",
       "      <td>http://bnb.data.bl.uk/id/resource/012634555</td>\n",
       "      <td>Consider Phlebas</td>\n",
       "      <td>1988</td>\n",
       "    </tr>\n",
       "    <tr>\n",
       "      <th>9</th>\n",
       "      <td>http://bnb.data.bl.uk/id/resource/012634628</td>\n",
       "      <td>Espedair Street</td>\n",
       "      <td>1988</td>\n",
       "    </tr>\n",
       "    <tr>\n",
       "      <th>10</th>\n",
       "      <td>http://bnb.data.bl.uk/id/resource/010059347</td>\n",
       "      <td>Canal dreams</td>\n",
       "      <td>1989</td>\n",
       "    </tr>\n",
       "    <tr>\n",
       "      <th>11</th>\n",
       "      <td>http://bnb.data.bl.uk/id/resource/012635239</td>\n",
       "      <td>The bridge</td>\n",
       "      <td>1989</td>\n",
       "    </tr>\n",
       "    <tr>\n",
       "      <th>12</th>\n",
       "      <td>http://bnb.data.bl.uk/id/resource/012635244</td>\n",
       "      <td>The player of games</td>\n",
       "      <td>1989</td>\n",
       "    </tr>\n",
       "  </tbody>\n",
       "</table>\n",
       "</div>"
      ],
      "text/plain": [
       "                                           book                title  date\n",
       "0   http://bnb.data.bl.uk/id/resource/010054162     Walking on glass  1985\n",
       "1   http://bnb.data.bl.uk/id/resource/012633949     The wasp factory  1985\n",
       "2   http://bnb.data.bl.uk/id/resource/010055357           The bridge  1986\n",
       "3   http://bnb.data.bl.uk/id/resource/012634133     Walking on glass  1986\n",
       "4   http://bnb.data.bl.uk/id/resource/010043975           The bridge  1987\n",
       "5   http://bnb.data.bl.uk/id/resource/010056544     Consider Phlebas  1987\n",
       "6   http://bnb.data.bl.uk/id/resource/010056904      Espedair Street  1987\n",
       "7   http://bnb.data.bl.uk/id/resource/010057897  The player of games  1988\n",
       "8   http://bnb.data.bl.uk/id/resource/012634555     Consider Phlebas  1988\n",
       "9   http://bnb.data.bl.uk/id/resource/012634628      Espedair Street  1988\n",
       "10  http://bnb.data.bl.uk/id/resource/010059347         Canal dreams  1989\n",
       "11  http://bnb.data.bl.uk/id/resource/012635239           The bridge  1989\n",
       "12  http://bnb.data.bl.uk/id/resource/012635244  The player of games  1989"
      ]
     },
     "execution_count": 41,
     "metadata": {},
     "output_type": "execute_result"
    }
   ],
   "source": [
    "q='''\n",
    "SELECT DISTINCT ?book ?title ?date WHERE {\n",
    "    #Find books by 'Stephen King':\n",
    "    ?book dct:creator ?author ;\n",
    "        dct:title ?title.\n",
    "    ?author foaf:name \"Iain Banks\".\n",
    "    \n",
    "    #Find when they were published:\n",
    "    ?book blt:publication ?publicationEvent.\n",
    "    ?publicationEvent event:time ?eventTime.\n",
    "    ?eventTime rdfs:label ?date.\n",
    "    \n",
    "    #Look for books published between 1985 and 1990\n",
    "    FILTER (?date>=\"1985\" && ?date<\"1990\")\n",
    "} ORDER BY ?date \n",
    "'''\n",
    "dfResults(endpoint,prefix,q)"
   ]
  },
  {
   "cell_type": "code",
   "execution_count": 42,
   "metadata": {},
   "outputs": [
    {
     "data": {
      "text/html": [
       "<div>\n",
       "<style scoped>\n",
       "    .dataframe tbody tr th:only-of-type {\n",
       "        vertical-align: middle;\n",
       "    }\n",
       "\n",
       "    .dataframe tbody tr th {\n",
       "        vertical-align: top;\n",
       "    }\n",
       "\n",
       "    .dataframe thead th {\n",
       "        text-align: right;\n",
       "    }\n",
       "</style>\n",
       "<table border=\"1\" class=\"dataframe\">\n",
       "  <thead>\n",
       "    <tr style=\"text-align: right;\">\n",
       "      <th></th>\n",
       "      <th>book</th>\n",
       "      <th>title</th>\n",
       "      <th>date</th>\n",
       "    </tr>\n",
       "  </thead>\n",
       "  <tbody>\n",
       "    <tr>\n",
       "      <th>0</th>\n",
       "      <td>http://bnb.data.bl.uk/id/resource/009422581</td>\n",
       "      <td>The colour of magic</td>\n",
       "      <td>1985</td>\n",
       "    </tr>\n",
       "    <tr>\n",
       "      <th>1</th>\n",
       "      <td>http://bnb.data.bl.uk/id/resource/010077895</td>\n",
       "      <td>Equal rites</td>\n",
       "      <td>1986</td>\n",
       "    </tr>\n",
       "    <tr>\n",
       "      <th>2</th>\n",
       "      <td>http://bnb.data.bl.uk/id/resource/010118238</td>\n",
       "      <td>The light fantastic</td>\n",
       "      <td>1986</td>\n",
       "    </tr>\n",
       "    <tr>\n",
       "      <th>3</th>\n",
       "      <td>http://bnb.data.bl.uk/id/resource/009422819</td>\n",
       "      <td>The light fantastic</td>\n",
       "      <td>1986</td>\n",
       "    </tr>\n",
       "    <tr>\n",
       "      <th>4</th>\n",
       "      <td>http://bnb.data.bl.uk/id/resource/010078076</td>\n",
       "      <td>Mort</td>\n",
       "      <td>1987</td>\n",
       "    </tr>\n",
       "    <tr>\n",
       "      <th>5</th>\n",
       "      <td>http://bnb.data.bl.uk/id/resource/009422903</td>\n",
       "      <td>Equal rites</td>\n",
       "      <td>1987</td>\n",
       "    </tr>\n",
       "  </tbody>\n",
       "</table>\n",
       "</div>"
      ],
      "text/plain": [
       "                                          book                title  date\n",
       "0  http://bnb.data.bl.uk/id/resource/009422581  The colour of magic  1985\n",
       "1  http://bnb.data.bl.uk/id/resource/010077895          Equal rites  1986\n",
       "2  http://bnb.data.bl.uk/id/resource/010118238  The light fantastic  1986\n",
       "3  http://bnb.data.bl.uk/id/resource/009422819  The light fantastic  1986\n",
       "4  http://bnb.data.bl.uk/id/resource/010078076                 Mort  1987\n",
       "5  http://bnb.data.bl.uk/id/resource/009422903          Equal rites  1987"
      ]
     },
     "execution_count": 42,
     "metadata": {},
     "output_type": "execute_result"
    }
   ],
   "source": [
    "# convert function to query \n",
    "\n",
    "def getBooksByAuthorBetweenDates(author,fromDate,toDate):\n",
    "    q='''\n",
    "            SELECT DISTINCT ?book ?title ?date WHERE {{\n",
    "                #Find books by name:\n",
    "                ?book dct:creator ?author ;\n",
    "                    dct:title ?title.\n",
    "                ?author foaf:name \"{0}\".\n",
    "\n",
    "                #Find when they were published:\n",
    "                ?book blt:publication ?publicationEvent.\n",
    "                ?publicationEvent event:time ?eventTime.\n",
    "                ?eventTime rdfs:label ?date.\n",
    "\n",
    "                #Look for books published between dates\n",
    "                FILTER (?date>=\"{1}\" && ?date<=\"{2}\")\n",
    "            }} ORDER BY ?date\n",
    "        '''.format(author,fromDate,toDate)\n",
    "    return dfResults(endpoint,prefix,q)\n",
    "\n",
    "getBooksByAuthorBetweenDates(\"Terry Pratchett\",\"1985\",\"1987\")"
   ]
  },
  {
   "cell_type": "code",
   "execution_count": null,
   "metadata": {},
   "outputs": [],
   "source": []
  }
 ],
 "metadata": {
  "interpreter": {
   "hash": "0eebd8ec8ee1e3b0ea056353a4df6208bb651af5156ee9734311d083be2b2cbb"
  },
  "kernelspec": {
   "display_name": "Python 3.9.10 64-bit (windows store)",
   "language": "python",
   "name": "python3"
  },
  "language_info": {
   "codemirror_mode": {
    "name": "ipython",
    "version": 3
   },
   "file_extension": ".py",
   "mimetype": "text/x-python",
   "name": "python",
   "nbconvert_exporter": "python",
   "pygments_lexer": "ipython3",
   "version": "3.9.10"
  },
  "orig_nbformat": 4
 },
 "nbformat": 4,
 "nbformat_minor": 2
}
