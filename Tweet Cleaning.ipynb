{
 "cells": [
  {
   "cell_type": "code",
   "execution_count": 2,
   "id": "5e48ee92",
   "metadata": {},
   "outputs": [],
   "source": [
    "import pandas as pd\n",
    "import numpy as np"
   ]
  },
  {
   "cell_type": "code",
   "execution_count": 3,
   "id": "e6484d75",
   "metadata": {},
   "outputs": [
    {
     "name": "stderr",
     "output_type": "stream",
     "text": [
      "/Users/Mary/opt/anaconda3/lib/python3.8/site-packages/IPython/core/interactiveshell.py:3441: DtypeWarning: Columns (1) have mixed types.Specify dtype option on import or set low_memory=False.\n",
      "  exec(code_obj, self.user_global_ns, self.user_ns)\n"
     ]
    }
   ],
   "source": [
    "df_tweets = pd.read_csv('/Users/Mary/Desktop/tweets/tweets_cleaned_forsplitting.csv')"
   ]
  },
  {
   "cell_type": "code",
   "execution_count": 4,
   "id": "16496e3d",
   "metadata": {},
   "outputs": [
    {
     "name": "stdout",
     "output_type": "stream",
     "text": [
      "261183550 total characters before cleaning across 1276597 tweets\n"
     ]
    },
    {
     "name": "stderr",
     "output_type": "stream",
     "text": [
      "/var/folders/cv/l7wnv7t94vvfyk2t65yjhyy80000gn/T/ipykernel_22642/2998308633.py:7: FutureWarning: The default value of regex will change from True to False in a future version.\n",
      "  df_tweets['Text'] = df_tweets['Text'].str.replace(\"\\’\", \"\").str.strip()\n",
      "/var/folders/cv/l7wnv7t94vvfyk2t65yjhyy80000gn/T/ipykernel_22642/2998308633.py:39: FutureWarning: The default value of regex will change from True to False in a future version.\n",
      "  df_tweets['Text'] = df_tweets['Text'].str.replace(punct_pattern, \"\").str.strip()\n",
      "/var/folders/cv/l7wnv7t94vvfyk2t65yjhyy80000gn/T/ipykernel_22642/2998308633.py:43: FutureWarning: The default value of regex will change from True to False in a future version.\n",
      "  df_tweets['Text'] = df_tweets['Text'].str.replace(nums, \"\").str.strip()\n"
     ]
    },
    {
     "name": "stdout",
     "output_type": "stream",
     "text": [
      "162741884 total characters after cleaning across 951466 tweets\n"
     ]
    }
   ],
   "source": [
    "print(str(sum(df_tweets['Text'].map(len)))+ ' total characters before cleaning across '+str(len(df_tweets))+' tweets')\n",
    "\n",
    "# make text lowercase\n",
    "df_tweets['Text'] = df_tweets['Text'].str.lower() #.astype('unicode')\n",
    "\n",
    "# remove apostrophes, newline, non-ascii characters\n",
    "df_tweets['Text'] = df_tweets['Text'].str.replace(\"\\’\", \"\").str.strip() \n",
    "df_tweets['Text'] = df_tweets['Text'].str.replace(\"\\''\", \"\").str.strip() \n",
    "df_tweets['Text'] = df_tweets['Text'].str.replace(\"\\n\", \"\").str.strip() \n",
    "df_tweets.Text.str.encode('ascii', 'ignore').str.decode('ascii')\n",
    "\n",
    "\n",
    "### remove emoji\n",
    "import re\n",
    "\n",
    "regex_pattern = re.compile(pattern = \"[\"\n",
    "    u\"\\U0001F600-\\U0001F64F\"  # emoticons\n",
    "    u\"\\U0001F300-\\U0001F5FF\"  # symbols & pictographs\n",
    "    u\"\\U0001F680-\\U0001F6FF\"  # transport & map symbols\n",
    "    u\"\\U0001F1E0-\\U0001F1FF\"  # flags (iOS)\n",
    "                       \"]+\", flags = re.UNICODE)\n",
    "\n",
    "df_tweets['Text'] = df_tweets['Text'].str.replace(regex_pattern, \"\").str.strip() \n",
    "\n",
    "\n",
    "# remove twitter handles (words in tweet that start with \"@\")\n",
    "# NOTE: this line must be above regext to remove all punctuation!\n",
    "df_tweets['Text'] = df_tweets['Text'].apply(lambda x: re.sub('(?:\\s)@[^, ]*', '', x))\n",
    "df_tweets['Text'] = df_tweets['Text'].apply(lambda x: re.sub('@[^, ]*', '', x))\n",
    "\n",
    "\n",
    "# remove all punctuation except asterisk\n",
    "import string\n",
    "\n",
    "remove = string.punctuation\n",
    "remove = remove.replace(\"*\", \"\") # don't remove hyphens\n",
    "punct_pattern = r\"[{}]\".format(remove) # create the pattern\n",
    "\n",
    "df_tweets['Text'] = df_tweets['Text'].str.replace(punct_pattern, \"\").str.strip() \n",
    "\n",
    "# remove numbers\n",
    "nums = pattern = r'[0-9]'\n",
    "df_tweets['Text'] = df_tweets['Text'].str.replace(nums, \"\").str.strip() \n",
    "\n",
    "# remove non-english characters\n",
    "def isEnglish(s):\n",
    "    try:\n",
    "        s.encode(encoding='utf-8').decode('ascii')\n",
    "    except UnicodeDecodeError:\n",
    "        return False\n",
    "    else:\n",
    "        return True\n",
    "\n",
    "df_tweets = df_tweets[df_tweets['Text'].apply(isEnglish)] \n",
    "\n",
    "\n",
    "\n",
    "print(str(sum(df_tweets['Text'].map(len)))+ ' total characters after cleaning across '+str(len(df_tweets))+' tweets')"
   ]
  },
  {
   "cell_type": "code",
   "execution_count": null,
   "id": "f2e337be",
   "metadata": {},
   "outputs": [],
   "source": []
  }
 ],
 "metadata": {
  "kernelspec": {
   "display_name": "Python 3 (ipykernel)",
   "language": "python",
   "name": "python3"
  },
  "language_info": {
   "codemirror_mode": {
    "name": "ipython",
    "version": 3
   },
   "file_extension": ".py",
   "mimetype": "text/x-python",
   "name": "python",
   "nbconvert_exporter": "python",
   "pygments_lexer": "ipython3",
   "version": "3.8.8"
  }
 },
 "nbformat": 4,
 "nbformat_minor": 5
}
