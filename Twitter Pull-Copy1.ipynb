{
 "cells": [
  {
   "cell_type": "code",
   "execution_count": 8,
   "id": "38fb4c7f",
   "metadata": {},
   "outputs": [],
   "source": [
    "import snscrape.modules.twitter as sntwitter\n",
    "import pandas as pd"
   ]
  },
  {
   "cell_type": "code",
   "execution_count": 9,
   "id": "d3dfc4eb",
   "metadata": {},
   "outputs": [],
   "source": [
    "# Setting variables to be used below\n",
    "# pull 100K tweets for each hashtag over trailing 12 months\n",
    "maxTweets = 1000000\n",
    "\n",
    "# Creating list to append tweet data to for each hashtag\n",
    "booktok_tweets = []\n",
    "booktwitter_tweets = []\n",
    "bookstagram_tweets = []\n",
    "book_tweets = []\n",
    "reading_tweets = []\n",
    "bookreviews_tweets = []\n"
   ]
  },
  {
   "cell_type": "code",
   "execution_count": null,
   "id": "2d46a85d",
   "metadata": {},
   "outputs": [],
   "source": [
    "# Using TwitterSearchScraper to scrape data and append tweets to list\n",
    "# booktok\n",
    "# for i,tweet in enumerate(sntwitter.TwitterSearchScraper('#booktok since:2021-03-25 until:2022-03-24').get_items()):\n",
    "#     if i>maxTweets:\n",
    "#         break\n",
    "#     booktok_tweets.append([tweet.date, tweet.id, tweet.content, tweet.user.username])\n",
    "\n",
    "    \n",
    "# # Creating a dataframe from the tweets list above\n",
    "# booktok_tweets = pd.DataFrame(booktok_tweets, columns=['Datetime', 'Tweet Id', 'Text', 'Username'])\n",
    "\n",
    "# # add column for hashtag for each df \n",
    "# booktok_tweets['hashtag'] = '#booktok'\n"
   ]
  },
  {
   "cell_type": "code",
   "execution_count": null,
   "id": "fc67a6d8",
   "metadata": {},
   "outputs": [],
   "source": [
    "# booktwitter\n",
    "# for i,tweet in enumerate(sntwitter.TwitterSearchScraper('#booktwitter since:2021-03-25 until:2022-03-24').get_items()):\n",
    "#     if i>maxTweets:\n",
    "#         break\n",
    "#     booktwitter_tweets.append([tweet.date, tweet.id, tweet.content, tweet.user.username])\n",
    "    \n",
    "# booktwitter_tweets = pd.DataFrame(booktwitter_tweets, columns=['Datetime', 'Tweet Id', 'Text', 'Username'])\n",
    "# booktwitter_tweets['hashtag'] = '#booktwitter'\n",
    "\n",
    "\n"
   ]
  },
  {
   "cell_type": "code",
   "execution_count": null,
   "id": "e86dd4dd",
   "metadata": {},
   "outputs": [],
   "source": [
    "# bookstagram\n",
    "# for i,tweet in enumerate(sntwitter.TwitterSearchScraper('#bookstagram since:2021-06-25 until:2022-03-24 lang:en').get_items()):\n",
    "#     if i>maxTweets:\n",
    "#         break\n",
    "#     bookstagram_tweets.append([tweet.date, tweet.id, tweet.content, tweet.user.username])\n",
    "    \n",
    "# bookstagram_tweets = pd.DataFrame(bookstagram_tweets, columns=['Datetime', 'Tweet Id', 'Text', 'Username'])\n",
    "# bookstagram_tweets['hashtag'] = '#bookstagram'\n",
    "\n"
   ]
  },
  {
   "cell_type": "code",
   "execution_count": 10,
   "id": "693a340c",
   "metadata": {},
   "outputs": [
    {
     "name": "stdout",
     "output_type": "stream",
     "text": [
      "593463\n"
     ]
    }
   ],
   "source": [
    "# book\n",
    "# for i,tweet in enumerate(sntwitter.TwitterSearchScraper('#book since:2021-03-25 until:2022-03-24').get_items()):\n",
    "#     if i>maxTweets:\n",
    "#         break\n",
    "#     book_tweets.append([tweet.date, tweet.id, tweet.content, tweet.user.username])\n",
    "\n",
    "# book_tweets = pd.DataFrame(book_tweets, columns=['Datetime', 'Tweet Id', 'Text', 'Username'])\n",
    "# book_tweets['hashtag'] = '#book'\n",
    "\n",
    "# print(len(book_tweets))"
   ]
  },
  {
   "cell_type": "code",
   "execution_count": 13,
   "id": "d6d272cc",
   "metadata": {},
   "outputs": [
    {
     "name": "stdout",
     "output_type": "stream",
     "text": [
      "409974\n"
     ]
    }
   ],
   "source": [
    " # reading\n",
    "for i,tweet in enumerate(sntwitter.TwitterSearchScraper('#reading since:2021-03-25 until:2022-03-24').get_items()):\n",
    "    if i>maxTweets:\n",
    "        break\n",
    "    reading_tweets.append([tweet.date, tweet.id, tweet.content, tweet.user.username])\n",
    "\n",
    "reading_tweets = pd.DataFrame(reading_tweets, columns=['Datetime', 'Tweet Id', 'Text', 'Username'])\n",
    "reading_tweets['hashtag'] = '#reading'\n",
    "\n",
    "print(len(reading_tweets))"
   ]
  },
  {
   "cell_type": "code",
   "execution_count": null,
   "id": "eb5ab514",
   "metadata": {},
   "outputs": [],
   "source": [
    "# bookreviews\n",
    "# for i,tweet in enumerate(sntwitter.TwitterSearchScraper('#bookreviews since:2021-03-25 until:2022-03-24').get_items()):\n",
    "#     if i>maxTweets:\n",
    "#         break\n",
    "#     bookreviews_tweets.append([tweet.date, tweet.id, tweet.content, tweet.user.username])\n",
    "    \n",
    "# bookreviews_tweets = pd.DataFrame(bookreviews_tweets, columns=['Datetime', 'Tweet Id', 'Text', 'Username'])\n",
    "# bookreviews_tweets['hashtag'] = '#bookreviews'\n",
    "\n",
    "# print(len(bookreviews_tweets))\n"
   ]
  },
  {
   "cell_type": "code",
   "execution_count": null,
   "id": "5485f047",
   "metadata": {},
   "outputs": [],
   "source": [
    "# concat dfs\n",
    "tweets = pd.concat([book_tweets,reading_tweets]) #,])  #booktok_tweets,booktwitter_tweets,bookstagram_tweets,bookreviews_tweets\n",
    "\n",
    "# count number of tweets from each hashtag\n",
    "tweets.groupby(['hashtag']).size()\n",
    "\n"
   ]
  },
  {
   "cell_type": "code",
   "execution_count": 14,
   "id": "bf0940b5",
   "metadata": {},
   "outputs": [
    {
     "data": {
      "text/plain": [
       "hashtag\n",
       "#reading    409974\n",
       "dtype: int64"
      ]
     },
     "execution_count": 14,
     "metadata": {},
     "output_type": "execute_result"
    }
   ],
   "source": [
    "# drop duplicate tweets\n",
    "reading_tweets.drop_duplicates(subset=['Tweet Id'],inplace=True)\n",
    "\n",
    "# count number of tweets after dropping dupes\n",
    "reading_tweets.groupby(['hashtag']).size()\n"
   ]
  },
  {
   "cell_type": "code",
   "execution_count": 15,
   "id": "92577de4",
   "metadata": {},
   "outputs": [],
   "source": [
    "reading_tweets.to_csv('/Users/Mary/Desktop/NLP/Group Project/reading_tweets_1M.csv',index=False)"
   ]
  },
  {
   "cell_type": "code",
   "execution_count": null,
   "id": "e5f0243d",
   "metadata": {},
   "outputs": [],
   "source": [
    "len(tweets)"
   ]
  },
  {
   "cell_type": "code",
   "execution_count": 16,
   "id": "2dc5e194",
   "metadata": {},
   "outputs": [
    {
     "data": {
      "text/plain": [
       "hashtag\n",
       "#bookstagram     62779\n",
       "#booktok         22114\n",
       "#booktwitter    226820\n",
       "dtype: int64"
      ]
     },
     "execution_count": 16,
     "metadata": {},
     "output_type": "execute_result"
    }
   ],
   "source": [
    "df1 = pd.read_csv('/Users/Mary/Desktop/NLP/Group Project/book_tweets_1M_part1.csv')\n",
    "df1.groupby(['hashtag']).size()\n",
    "\n",
    "## has bookstagram, booktok, booktwitter hashtags"
   ]
  },
  {
   "cell_type": "code",
   "execution_count": 19,
   "id": "999d9d6f",
   "metadata": {},
   "outputs": [
    {
     "data": {
      "text/plain": [
       "hashtag\n",
       "#book    593463\n",
       "dtype: int64"
      ]
     },
     "execution_count": 19,
     "metadata": {},
     "output_type": "execute_result"
    }
   ],
   "source": [
    "df2 = pd.read_csv('/Users/Mary/Desktop/NLP/Group Project/book_tweets_1M.csv',lineterminator='\\n')\n",
    "df2.groupby(['hashtag']).size()"
   ]
  },
  {
   "cell_type": "code",
   "execution_count": 17,
   "id": "8fe51256",
   "metadata": {},
   "outputs": [
    {
     "data": {
      "text/plain": [
       "hashtag\n",
       "#bookreviews    52379\n",
       "dtype: int64"
      ]
     },
     "execution_count": 17,
     "metadata": {},
     "output_type": "execute_result"
    }
   ],
   "source": [
    "df3 = pd.read_csv('/Users/Mary/Desktop/NLP/Group Project/bookreviews_tweets_tweets_1M_part1.csv',lineterminator='\\n')\n",
    "df3.groupby(['hashtag']).size()\n",
    "\n",
    "## has bookreviews hashtag"
   ]
  },
  {
   "cell_type": "code",
   "execution_count": 20,
   "id": "6e0d4ac2",
   "metadata": {},
   "outputs": [
    {
     "name": "stderr",
     "output_type": "stream",
     "text": [
      "/Users/Mary/opt/anaconda3/lib/python3.8/site-packages/IPython/core/interactiveshell.py:3441: DtypeWarning: Columns (1,2,3,4) have mixed types.Specify dtype option on import or set low_memory=False.\n",
      "  exec(code_obj, self.user_global_ns, self.user_ns)\n"
     ]
    },
    {
     "data": {
      "text/plain": [
       "hashtag\n",
       "#reading    409838\n",
       "dtype: int64"
      ]
     },
     "execution_count": 20,
     "metadata": {},
     "output_type": "execute_result"
    }
   ],
   "source": [
    "df4 = pd.read_csv('/Users/Mary/Desktop/NLP/Group Project/reading_tweets_1M.csv')\n",
    "df4.groupby(['hashtag']).size()\n",
    "# has a random sample of all hashtags\n"
   ]
  },
  {
   "cell_type": "code",
   "execution_count": 21,
   "id": "30d2edce",
   "metadata": {},
   "outputs": [
    {
     "data": {
      "text/plain": [
       "hashtag\n",
       "#book           568328\n",
       "#bookreviews     47253\n",
       "#bookstagram     62779\n",
       "#booktok         22114\n",
       "#booktwitter    226820\n",
       "#reading        401438\n",
       "dtype: int64"
      ]
     },
     "execution_count": 21,
     "metadata": {},
     "output_type": "execute_result"
    }
   ],
   "source": [
    "book_tweets = pd.concat([df1,df2,df3,df4])\n",
    "# drop duplicate tweets\n",
    "book_tweets.drop_duplicates(subset=['Tweet Id'],inplace=True)\n",
    "\n",
    "# count number of tweets after dropping dupes\n",
    "book_tweets.groupby(['hashtag']).size()"
   ]
  },
  {
   "cell_type": "code",
   "execution_count": 22,
   "id": "3b63c26b",
   "metadata": {},
   "outputs": [
    {
     "name": "stdout",
     "output_type": "stream",
     "text": [
      "1328873\n"
     ]
    }
   ],
   "source": [
    "print(len(book_tweets))"
   ]
  },
  {
   "cell_type": "code",
   "execution_count": null,
   "id": "0788f1b6",
   "metadata": {},
   "outputs": [],
   "source": []
  }
 ],
 "metadata": {
  "kernelspec": {
   "display_name": "Python 3 (ipykernel)",
   "language": "python",
   "name": "python3"
  },
  "language_info": {
   "codemirror_mode": {
    "name": "ipython",
    "version": 3
   },
   "file_extension": ".py",
   "mimetype": "text/x-python",
   "name": "python",
   "nbconvert_exporter": "python",
   "pygments_lexer": "ipython3",
   "version": "3.8.8"
  }
 },
 "nbformat": 4,
 "nbformat_minor": 5
}
