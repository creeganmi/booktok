{
 "cells": [
  {
   "cell_type": "code",
   "execution_count": 2,
   "metadata": {},
   "outputs": [
    {
     "name": "stdout",
     "output_type": "stream",
     "text": [
      "Note: you may need to restart the kernel to use updated packages.\n"
     ]
    },
    {
     "name": "stderr",
     "output_type": "stream",
     "text": [
      "ERROR: Could not find a version that satisfies the requirement by_year (from versions: none)\n",
      "ERROR: No matching distribution found for by_year\n",
      "WARNING: You are using pip version 21.3.1; however, version 22.0.4 is available.\n",
      "You should consider upgrading via the 'C:\\Users\\creeg\\AppData\\Local\\Microsoft\\WindowsApps\\PythonSoftwareFoundation.Python.3.9_qbz5n2kfra8p0\\python.exe -m pip install --upgrade pip' command.\n"
     ]
    }
   ],
   "source": [
    "pip install by_year"
   ]
  },
  {
   "cell_type": "code",
   "execution_count": 1,
   "metadata": {},
   "outputs": [
    {
     "ename": "ModuleNotFoundError",
     "evalue": "No module named 'by_year'",
     "output_type": "error",
     "traceback": [
      "\u001b[1;31m---------------------------------------------------------------------------\u001b[0m",
      "\u001b[1;31mModuleNotFoundError\u001b[0m                       Traceback (most recent call last)",
      "\u001b[1;32m~\\AppData\\Local\\Temp/ipykernel_33300/3502145904.py\u001b[0m in \u001b[0;36m<module>\u001b[1;34m\u001b[0m\n\u001b[0;32m      4\u001b[0m \u001b[1;32mimport\u001b[0m \u001b[0mdatetime\u001b[0m\u001b[1;33m\u001b[0m\u001b[1;33m\u001b[0m\u001b[0m\n\u001b[0;32m      5\u001b[0m \u001b[1;32mimport\u001b[0m \u001b[0mpprint\u001b[0m\u001b[1;33m\u001b[0m\u001b[1;33m\u001b[0m\u001b[0m\n\u001b[1;32m----> 6\u001b[1;33m \u001b[1;32mimport\u001b[0m \u001b[0mby_year\u001b[0m\u001b[1;33m\u001b[0m\u001b[1;33m\u001b[0m\u001b[0m\n\u001b[0m\u001b[0;32m      7\u001b[0m \u001b[1;32mimport\u001b[0m \u001b[0mpandas\u001b[0m \u001b[1;32mas\u001b[0m \u001b[0mpd\u001b[0m\u001b[1;33m\u001b[0m\u001b[1;33m\u001b[0m\u001b[0m\n",
      "\u001b[1;31mModuleNotFoundError\u001b[0m: No module named 'by_year'"
     ]
    }
   ],
   "source": [
    "import pandas as pd\n",
    "from bs4 import BeautifulSoup\n",
    "import requests\n",
    "import datetime\n",
    "import pprint\n",
    "import pandas as pd"
   ]
  },
  {
   "cell_type": "code",
   "execution_count": 2,
   "metadata": {},
   "outputs": [],
   "source": [
    "def ny_times_lists():\n",
    "\n",
    "    nylist = pd.DataFrame(columns=['Date', 'Title', 'Author', 'Ranking', 'Year', 'Month'])\n",
    "\n",
    "    for year in range(2012, 2022):\n",
    "        for month in range(1, 13):\n",
    "            nytimes_link = f'https://www.nytimes.com/books/best-sellers/2022/02/06/combined-print-and-e-book-fiction/'\n",
    "            nytimes_biz_book = requests.get(nytimes_link)\n",
    "            soup = BeautifulSoup(nytimes_biz_book.text, \"html.parser\")\n",
    "            book_list = soup.findAll('div', {'class': 'css-xe4cfy'})\n",
    "\n",
    "            for rank, book in enumerate(book_list):\n",
    "                ranking: int = rank + 1\n",
    "                book_title = book.find('h3').text.title()\n",
    "                if len(book_title) >= 30:\n",
    "                    space: int = book_title[:15].rfind(' ')\n",
    "                    book_title = book_title[:space] + '\\n' + book_title[space + 1:]\n",
    "                    space = book_title[:30].rfind(' ')\n",
    "                    book_title = book_title[:space] + '\\n' + book_title[space + 1:]\n",
    "                elif 30 > len(book_title) > 15:\n",
    "                    space = book_title[:15].rfind(' ')\n",
    "                    book_title = book_title[:space] + '\\n' + book_title[space + 1:]\n",
    "                book_author = book.find('p', {'class': 'css-hjukut'}).text[3:]\n",
    "                date = datetime.date(year=year, month=month, day=1)\n",
    "                book_data = pd.Series([date, book_title, book_author, ranking, year, month],\n",
    "                                      index=['Date', 'Title', 'Author', 'Ranking', 'Year', 'Month'])\n",
    "                nylist = nylist.append(book_data, ignore_index=True, sort=False)\n",
    "\n",
    "    nylist.to_json('nytimes_2012-2022.json')\n",
    "\n",
    "    return nylist\n",
    "\n",
    "\n",
    "if __name__ == \"__main__\":\n",
    "    ny_times_lists()"
   ]
  },
  {
   "cell_type": "code",
   "execution_count": 4,
   "metadata": {},
   "outputs": [],
   "source": [
    "dframe = pd.read_json('nytimes_2012-2022.json')"
   ]
  },
  {
   "cell_type": "code",
   "execution_count": 5,
   "metadata": {},
   "outputs": [
    {
     "data": {
      "text/html": [
       "<div>\n",
       "<style scoped>\n",
       "    .dataframe tbody tr th:only-of-type {\n",
       "        vertical-align: middle;\n",
       "    }\n",
       "\n",
       "    .dataframe tbody tr th {\n",
       "        vertical-align: top;\n",
       "    }\n",
       "\n",
       "    .dataframe thead th {\n",
       "        text-align: right;\n",
       "    }\n",
       "</style>\n",
       "<table border=\"1\" class=\"dataframe\">\n",
       "  <thead>\n",
       "    <tr style=\"text-align: right;\">\n",
       "      <th></th>\n",
       "      <th>Date</th>\n",
       "      <th>Title</th>\n",
       "      <th>Author</th>\n",
       "      <th>Ranking</th>\n",
       "      <th>Year</th>\n",
       "      <th>Month</th>\n",
       "    </tr>\n",
       "  </thead>\n",
       "  <tbody>\n",
       "    <tr>\n",
       "      <th>0</th>\n",
       "      <td>2012-01-01</td>\n",
       "      <td>It Ends With Us</td>\n",
       "      <td>Colleen Hoover</td>\n",
       "      <td>1</td>\n",
       "      <td>2012</td>\n",
       "      <td>1</td>\n",
       "    </tr>\n",
       "    <tr>\n",
       "      <th>1</th>\n",
       "      <td>2012-01-01</td>\n",
       "      <td>The Seven\\nHusbands Of Evelyn\\nHugo</td>\n",
       "      <td>Taylor Jenkins Reid</td>\n",
       "      <td>2</td>\n",
       "      <td>2012</td>\n",
       "      <td>1</td>\n",
       "    </tr>\n",
       "    <tr>\n",
       "      <th>2</th>\n",
       "      <td>2012-01-01</td>\n",
       "      <td>Verity</td>\n",
       "      <td>Colleen Hoover</td>\n",
       "      <td>3</td>\n",
       "      <td>2012</td>\n",
       "      <td>1</td>\n",
       "    </tr>\n",
       "    <tr>\n",
       "      <th>3</th>\n",
       "      <td>2012-01-01</td>\n",
       "      <td>One Step Too\\nFar</td>\n",
       "      <td>Lisa Gardner</td>\n",
       "      <td>4</td>\n",
       "      <td>2012</td>\n",
       "      <td>1</td>\n",
       "    </tr>\n",
       "    <tr>\n",
       "      <th>4</th>\n",
       "      <td>2012-01-01</td>\n",
       "      <td>Ugly Love</td>\n",
       "      <td>Colleen Hoover</td>\n",
       "      <td>5</td>\n",
       "      <td>2012</td>\n",
       "      <td>1</td>\n",
       "    </tr>\n",
       "  </tbody>\n",
       "</table>\n",
       "</div>"
      ],
      "text/plain": [
       "        Date                                Title               Author  \\\n",
       "0 2012-01-01                      It Ends With Us       Colleen Hoover   \n",
       "1 2012-01-01  The Seven\\nHusbands Of Evelyn\\nHugo  Taylor Jenkins Reid   \n",
       "2 2012-01-01                               Verity       Colleen Hoover   \n",
       "3 2012-01-01                    One Step Too\\nFar         Lisa Gardner   \n",
       "4 2012-01-01                            Ugly Love       Colleen Hoover   \n",
       "\n",
       "   Ranking  Year  Month  \n",
       "0        1  2012      1  \n",
       "1        2  2012      1  \n",
       "2        3  2012      1  \n",
       "3        4  2012      1  \n",
       "4        5  2012      1  "
      ]
     },
     "execution_count": 5,
     "metadata": {},
     "output_type": "execute_result"
    }
   ],
   "source": [
    "dframe.head()"
   ]
  },
  {
   "cell_type": "code",
   "execution_count": null,
   "metadata": {},
   "outputs": [],
   "source": []
  }
 ],
 "metadata": {
  "interpreter": {
   "hash": "0eebd8ec8ee1e3b0ea056353a4df6208bb651af5156ee9734311d083be2b2cbb"
  },
  "kernelspec": {
   "display_name": "Python 3.9.12 64-bit (windows store)",
   "language": "python",
   "name": "python3"
  },
  "language_info": {
   "codemirror_mode": {
    "name": "ipython",
    "version": 3
   },
   "file_extension": ".py",
   "mimetype": "text/x-python",
   "name": "python",
   "nbconvert_exporter": "python",
   "pygments_lexer": "ipython3",
   "version": "3.9.12"
  },
  "orig_nbformat": 4
 },
 "nbformat": 4,
 "nbformat_minor": 2
}
